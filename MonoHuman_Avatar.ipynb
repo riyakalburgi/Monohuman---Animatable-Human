{
  "cells": [
    {
      "cell_type": "markdown",
      "metadata": {
        "id": "uefJ5U2rKkZs"
      },
      "source": [
        "# **Installation:**"
      ]
    },
    {
      "cell_type": "code",
      "execution_count": null,
      "metadata": {
        "id": "J19UuyFWULE9",
        "colab": {
          "base_uri": "https://localhost:8080/"
        },
        "outputId": "e40a17a3-2ad0-4059-a912-5aa80ec0f1c8"
      },
      "outputs": [
        {
          "output_type": "stream",
          "name": "stdout",
          "text": [
            "Drive already mounted at /content/drive; to attempt to forcibly remount, call drive.mount(\"/content/drive\", force_remount=True).\n"
          ]
        }
      ],
      "source": [
        "from google.colab import drive\n",
        "drive.mount('/content/drive')"
      ]
    },
    {
      "cell_type": "code",
      "execution_count": null,
      "metadata": {
        "id": "yPqEyX0x0OyF",
        "colab": {
          "base_uri": "https://localhost:8080/"
        },
        "outputId": "b8378021-a3da-4cc0-915e-6ffcf8c5d6b5"
      },
      "outputs": [
        {
          "output_type": "stream",
          "name": "stdout",
          "text": [
            "--2023-11-15 03:53:39--  https://repo.anaconda.com/miniconda/Miniconda3-py37_4.9.2-Linux-x86_64.sh\n",
            "Resolving repo.anaconda.com (repo.anaconda.com)... 104.16.131.3, 104.16.130.3, 2606:4700::6810:8303, ...\n",
            "Connecting to repo.anaconda.com (repo.anaconda.com)|104.16.131.3|:443... connected.\n",
            "HTTP request sent, awaiting response... 200 OK\n",
            "Length: 90040905 (86M) [application/x-sh]\n",
            "Saving to: ‘Miniconda3-py37_4.9.2-Linux-x86_64.sh.3’\n",
            "\n",
            "Miniconda3-py37_4.9 100%[===================>]  85.87M   220MB/s    in 0.4s    \n",
            "\n",
            "2023-11-15 03:53:40 (220 MB/s) - ‘Miniconda3-py37_4.9.2-Linux-x86_64.sh.3’ saved [90040905/90040905]\n",
            "\n",
            "PREFIX=/usr/local\n",
            "Unpacking payload ...\n",
            "Collecting package metadata (current_repodata.json): - \b\b\\ \b\bdone\n",
            "Solving environment: / \b\b- \b\b\\ \b\b| \b\b/ \b\bdone\n",
            "\n",
            "# All requested packages already installed.\n",
            "\n",
            "installation finished.\n",
            "WARNING:\n",
            "    You currently have a PYTHONPATH environment variable set. This may cause\n",
            "    unexpected behavior when running the Python interpreter in Miniconda3.\n",
            "    For best results, please verify that your PYTHONPATH only points to\n",
            "    directories of packages that are compatible with the Python interpreter\n",
            "    in Miniconda3: /usr/local\n"
          ]
        }
      ],
      "source": [
        "# Step 1: Install Miniconda and set up Conda\n",
        "!wget https://repo.anaconda.com/miniconda/Miniconda3-py37_4.9.2-Linux-x86_64.sh\n",
        "!bash Miniconda3-py37_4.9.2-Linux-x86_64.sh -bfp /usr/local\n",
        "\n",
        "# Step 2: Set up Conda\n",
        "import sys\n",
        "sys.path.append('/usr/local/lib/python3.7/site-packages')\n",
        "\n"
      ]
    },
    {
      "cell_type": "code",
      "execution_count": null,
      "metadata": {
        "id": "H_I7DhOJ0fas"
      },
      "outputs": [],
      "source": [
        "import sys\n",
        "sys.path\n",
        "import sys\n",
        "import os\n",
        "\n",
        "# Specify the directory path you want to change to\n",
        "new_directory = '/content/drive/MyDrive/MonoHuman-main/'\n",
        "\n",
        "# Change the current working directory to the new directory\n",
        "os.chdir(new_directory)\n",
        "\n",
        "# Step 3: Create and activate a Conda environment\n",
        "#!conda env create -f environment.yaml\n",
        "#!source activate Monohuman\n"
      ]
    },
    {
      "cell_type": "code",
      "execution_count": null,
      "metadata": {
        "id": "ow3--DUo7KoH",
        "colab": {
          "base_uri": "https://localhost:8080/"
        },
        "outputId": "7b926499-d8ac-40c5-d073-f527b5ffaa02"
      },
      "outputs": [
        {
          "output_type": "stream",
          "name": "stdout",
          "text": [
            "Could not find conda environment: Monohuman\n",
            "You can list all discoverable environments with `conda info --envs`.\n",
            "\n"
          ]
        }
      ],
      "source": [
        "!source activate Monohuman"
      ]
    },
    {
      "cell_type": "code",
      "execution_count": null,
      "metadata": {
        "id": "FDAfKUDFBoTl",
        "colab": {
          "base_uri": "https://localhost:8080/"
        },
        "outputId": "5eb09da3-7533-4704-b048-d18e91e242ee"
      },
      "outputs": [
        {
          "output_type": "stream",
          "name": "stdout",
          "text": [
            "Requirement already satisfied: chumpy in /usr/local/lib/python3.7/site-packages (0.70)\n",
            "Requirement already satisfied: scipy>=0.13.0 in /usr/local/lib/python3.7/site-packages (from chumpy) (1.7.3)\n",
            "Requirement already satisfied: six>=1.11.0 in /usr/local/lib/python3.7/site-packages (from chumpy) (1.15.0)\n",
            "Requirement already satisfied: numpy<1.23.0,>=1.16.5 in /usr/local/lib/python3.7/site-packages (from scipy>=0.13.0->chumpy) (1.21.6)\n"
          ]
        }
      ],
      "source": [
        "!pip install chumpy"
      ]
    },
    {
      "cell_type": "code",
      "execution_count": null,
      "metadata": {
        "id": "k4xTrq9ZBmkU",
        "colab": {
          "base_uri": "https://localhost:8080/"
        },
        "outputId": "5ba56ddf-9cb7-4121-eff8-f23e569345ef"
      },
      "outputs": [
        {
          "output_type": "stream",
          "name": "stdout",
          "text": [
            "Requirement already satisfied: pyyaml in /usr/local/lib/python3.7/site-packages (6.0.1)\n"
          ]
        }
      ],
      "source": [
        "!pip install pyyaml\n"
      ]
    },
    {
      "cell_type": "code",
      "execution_count": null,
      "metadata": {
        "id": "TeJEL2IGBtPV",
        "colab": {
          "base_uri": "https://localhost:8080/"
        },
        "outputId": "4b69065e-ffe3-40be-95c0-02e16c96c625"
      },
      "outputs": [
        {
          "output_type": "stream",
          "name": "stdout",
          "text": [
            "Requirement already satisfied: opencv-python in /usr/local/lib/python3.7/site-packages (4.8.1.78)\n",
            "Requirement already satisfied: numpy>=1.17.0; python_version >= \"3.7\" in /usr/local/lib/python3.7/site-packages (from opencv-python) (1.21.6)\n"
          ]
        }
      ],
      "source": [
        "!pip install opencv-python"
      ]
    },
    {
      "cell_type": "code",
      "execution_count": null,
      "metadata": {
        "id": "RoXsv_JUB-Y9",
        "colab": {
          "base_uri": "https://localhost:8080/"
        },
        "outputId": "2a494273-b93f-494f-9211-3c6bf0c8b624"
      },
      "outputs": [
        {
          "output_type": "stream",
          "name": "stdout",
          "text": [
            "Requirement already satisfied: torch in /usr/local/lib/python3.7/site-packages (1.13.1)\n",
            "Requirement already satisfied: typing-extensions in /usr/local/lib/python3.7/site-packages (from torch) (4.7.1)\n",
            "Requirement already satisfied: nvidia-cublas-cu11==11.10.3.66; platform_system == \"Linux\" in /usr/local/lib/python3.7/site-packages (from torch) (11.10.3.66)\n",
            "Requirement already satisfied: nvidia-cuda-runtime-cu11==11.7.99; platform_system == \"Linux\" in /usr/local/lib/python3.7/site-packages (from torch) (11.7.99)\n",
            "Requirement already satisfied: nvidia-cudnn-cu11==8.5.0.96; platform_system == \"Linux\" in /usr/local/lib/python3.7/site-packages (from torch) (8.5.0.96)\n",
            "Requirement already satisfied: nvidia-cuda-nvrtc-cu11==11.7.99; platform_system == \"Linux\" in /usr/local/lib/python3.7/site-packages (from torch) (11.7.99)\n",
            "Requirement already satisfied: setuptools in /usr/local/lib/python3.7/site-packages (from nvidia-cublas-cu11==11.10.3.66; platform_system == \"Linux\"->torch) (50.3.1.post20201107)\n",
            "Requirement already satisfied: wheel in /usr/local/lib/python3.7/site-packages (from nvidia-cublas-cu11==11.10.3.66; platform_system == \"Linux\"->torch) (0.35.1)\n"
          ]
        }
      ],
      "source": [
        "!pip install torch"
      ]
    },
    {
      "cell_type": "code",
      "execution_count": null,
      "metadata": {
        "id": "x0B8kA-jDLmI",
        "colab": {
          "base_uri": "https://localhost:8080/"
        },
        "outputId": "39c8ff80-5634-45d6-efcb-81dff5e6ed41"
      },
      "outputs": [
        {
          "output_type": "stream",
          "name": "stdout",
          "text": [
            "Requirement already satisfied: termcolor in /usr/local/lib/python3.7/site-packages (2.3.0)\n"
          ]
        }
      ],
      "source": [
        "!pip install termcolor"
      ]
    },
    {
      "cell_type": "code",
      "execution_count": null,
      "metadata": {
        "id": "iVN-pE76DRdt",
        "colab": {
          "base_uri": "https://localhost:8080/"
        },
        "outputId": "c0dd0363-efc7-4506-86c0-36e4ee02f5bc"
      },
      "outputs": [
        {
          "output_type": "stream",
          "name": "stdout",
          "text": [
            "Requirement already satisfied: Pillow in /usr/local/lib/python3.7/site-packages (9.5.0)\n"
          ]
        }
      ],
      "source": [
        "!pip install Pillow"
      ]
    },
    {
      "cell_type": "code",
      "execution_count": null,
      "metadata": {
        "id": "N3giNdvhDW_G",
        "colab": {
          "base_uri": "https://localhost:8080/"
        },
        "outputId": "7f3e5a08-6895-4665-b7c3-542975eb9955"
      },
      "outputs": [
        {
          "output_type": "stream",
          "name": "stdout",
          "text": [
            "Requirement already satisfied: absl-py in /usr/local/lib/python3.7/site-packages (2.0.0)\n"
          ]
        }
      ],
      "source": [
        "!pip install absl-py"
      ]
    },
    {
      "cell_type": "code",
      "execution_count": null,
      "metadata": {
        "id": "286mFIySB4E4"
      },
      "outputs": [],
      "source": [
        "###Changing the path in 386.yaml file. '/content/drive/MyDrive/MonoHuman-main/CoreView_386'\n",
        "\n",
        "\n",
        "# Change to the 'prepare_zju_mocap' directory\n",
        "!cd tools/prepare_zju_mocap\n",
        "\n",
        "import os\n",
        "\n",
        "\n",
        "\n",
        "# Specify the directory path you want to change to\n",
        "new_directory = '/content/drive/MyDrive/MonoHuman-main/tools/prepare_zju_mocap'\n",
        "\n",
        "# Change the current working directory to the new directory\n",
        "os.chdir(new_directory)"
      ]
    },
    {
      "cell_type": "markdown",
      "source": [
        "# **Pre-processing script + Dependencies**\n",
        "\n",
        "Uncomment to pre-process\n",
        "\n"
      ],
      "metadata": {
        "id": "T-5uVBiV3l-5"
      }
    },
    {
      "cell_type": "code",
      "source": [
        "#!python /content/drive/MyDrive/MonoHuman-main/tools/prepare_zju_mocap/prepare_dataset.py --cfg /content/drive/MyDrive/MonoHuman-main/tools/prepare_zju_mocap/386.yaml\n",
        "#!python prepare_dataset.py --cfg 386.yaml\n",
        "#!cd ../../"
      ],
      "metadata": {
        "id": "ylmYc6YF3zRr"
      },
      "execution_count": 1,
      "outputs": []
    },
    {
      "cell_type": "code",
      "execution_count": null,
      "metadata": {
        "id": "yr8gMB9xnU2c",
        "colab": {
          "base_uri": "https://localhost:8080/"
        },
        "outputId": "c0084839-0a57-4e3b-c814-955bac9333b4"
      },
      "outputs": [
        {
          "output_type": "stream",
          "name": "stdout",
          "text": [
            "Requirement already satisfied: matplotlib in /usr/local/lib/python3.7/site-packages (3.5.3)\n",
            "Requirement already satisfied: pillow>=6.2.0 in /usr/local/lib/python3.7/site-packages (from matplotlib) (9.5.0)\n",
            "Requirement already satisfied: packaging>=20.0 in /usr/local/lib/python3.7/site-packages (from matplotlib) (23.2)\n",
            "Requirement already satisfied: pyparsing>=2.2.1 in /usr/local/lib/python3.7/site-packages (from matplotlib) (3.1.1)\n",
            "Requirement already satisfied: cycler>=0.10 in /usr/local/lib/python3.7/site-packages (from matplotlib) (0.11.0)\n",
            "Requirement already satisfied: python-dateutil>=2.7 in /usr/local/lib/python3.7/site-packages (from matplotlib) (2.8.2)\n",
            "Requirement already satisfied: fonttools>=4.22.0 in /usr/local/lib/python3.7/site-packages (from matplotlib) (4.38.0)\n",
            "Requirement already satisfied: kiwisolver>=1.0.1 in /usr/local/lib/python3.7/site-packages (from matplotlib) (1.4.5)\n",
            "Requirement already satisfied: numpy>=1.17 in /usr/local/lib/python3.7/site-packages (from matplotlib) (1.21.6)\n",
            "Requirement already satisfied: six>=1.5 in /usr/local/lib/python3.7/site-packages (from python-dateutil>=2.7->matplotlib) (1.15.0)\n",
            "Requirement already satisfied: typing-extensions; python_version < \"3.8\" in /usr/local/lib/python3.7/site-packages (from kiwisolver>=1.0.1->matplotlib) (4.7.1)\n"
          ]
        }
      ],
      "source": [
        "!pip install matplotlib"
      ]
    },
    {
      "cell_type": "code",
      "execution_count": null,
      "metadata": {
        "id": "Y6qDcC7Xq9_5",
        "colab": {
          "base_uri": "https://localhost:8080/"
        },
        "outputId": "be839add-4e12-4c43-8e0e-26252d4200f3"
      },
      "outputs": [
        {
          "output_type": "stream",
          "name": "stdout",
          "text": [
            "Requirement already satisfied: torchvision in /usr/local/lib/python3.7/site-packages (0.14.1)\n",
            "Requirement already satisfied: typing-extensions in /usr/local/lib/python3.7/site-packages (from torchvision) (4.7.1)\n",
            "Requirement already satisfied: pillow!=8.3.*,>=5.3.0 in /usr/local/lib/python3.7/site-packages (from torchvision) (9.5.0)\n",
            "Requirement already satisfied: numpy in /usr/local/lib/python3.7/site-packages (from torchvision) (1.21.6)\n",
            "Requirement already satisfied: requests in /usr/local/lib/python3.7/site-packages (from torchvision) (2.24.0)\n",
            "Requirement already satisfied: torch==1.13.1 in /usr/local/lib/python3.7/site-packages (from torchvision) (1.13.1)\n",
            "Requirement already satisfied: chardet<4,>=3.0.2 in /usr/local/lib/python3.7/site-packages (from requests->torchvision) (3.0.4)\n",
            "Requirement already satisfied: idna<3,>=2.5 in /usr/local/lib/python3.7/site-packages (from requests->torchvision) (2.10)\n",
            "Requirement already satisfied: urllib3!=1.25.0,!=1.25.1,<1.26,>=1.21.1 in /usr/local/lib/python3.7/site-packages (from requests->torchvision) (1.25.11)\n",
            "Requirement already satisfied: certifi>=2017.4.17 in /usr/local/lib/python3.7/site-packages (from requests->torchvision) (2020.6.20)\n",
            "Requirement already satisfied: nvidia-cudnn-cu11==8.5.0.96; platform_system == \"Linux\" in /usr/local/lib/python3.7/site-packages (from torch==1.13.1->torchvision) (8.5.0.96)\n",
            "Requirement already satisfied: nvidia-cublas-cu11==11.10.3.66; platform_system == \"Linux\" in /usr/local/lib/python3.7/site-packages (from torch==1.13.1->torchvision) (11.10.3.66)\n",
            "Requirement already satisfied: nvidia-cuda-runtime-cu11==11.7.99; platform_system == \"Linux\" in /usr/local/lib/python3.7/site-packages (from torch==1.13.1->torchvision) (11.7.99)\n",
            "Requirement already satisfied: nvidia-cuda-nvrtc-cu11==11.7.99; platform_system == \"Linux\" in /usr/local/lib/python3.7/site-packages (from torch==1.13.1->torchvision) (11.7.99)\n",
            "Requirement already satisfied: setuptools in /usr/local/lib/python3.7/site-packages (from nvidia-cublas-cu11==11.10.3.66; platform_system == \"Linux\"->torch==1.13.1->torchvision) (50.3.1.post20201107)\n",
            "Requirement already satisfied: wheel in /usr/local/lib/python3.7/site-packages (from nvidia-cublas-cu11==11.10.3.66; platform_system == \"Linux\"->torch==1.13.1->torchvision) (0.35.1)\n"
          ]
        }
      ],
      "source": [
        "!pip install torchvision"
      ]
    },
    {
      "cell_type": "code",
      "execution_count": null,
      "metadata": {
        "id": "cAY2DUmvyC3p",
        "colab": {
          "base_uri": "https://localhost:8080/"
        },
        "outputId": "02eb1e7e-b53f-4ac4-b782-8a70c8e93a49"
      },
      "outputs": [
        {
          "output_type": "stream",
          "name": "stdout",
          "text": [
            "Requirement already satisfied: trimesh in /usr/local/lib/python3.7/site-packages (4.0.4)\n",
            "Requirement already satisfied: numpy in /usr/local/lib/python3.7/site-packages (from trimesh) (1.21.6)\n"
          ]
        }
      ],
      "source": [
        "!pip install trimesh"
      ]
    },
    {
      "cell_type": "code",
      "execution_count": null,
      "metadata": {
        "id": "uYnWEqLWnQso",
        "colab": {
          "base_uri": "https://localhost:8080/"
        },
        "outputId": "5ae872ae-75fd-4470-831c-7c551262cdc8"
      },
      "outputs": [
        {
          "output_type": "stream",
          "name": "stdout",
          "text": [
            "/content/drive/MyDrive/MonoHuman-main/tools/prepare_zju_mocap\n",
            "/content/drive/MyDrive/MonoHuman-main\n"
          ]
        }
      ],
      "source": [
        "print(os.getcwd())\n",
        "os.chdir(\"/content/drive/MyDrive/MonoHuman-main/\")\n",
        "print(os.getcwd())"
      ]
    },
    {
      "cell_type": "markdown",
      "source": [
        "# **Code that Runs the Training**\n",
        "\n",
        "Uncomment to run"
      ],
      "metadata": {
        "id": "J2ECDmMc4CQE"
      }
    },
    {
      "cell_type": "code",
      "execution_count": null,
      "metadata": {
        "id": "tMiB9gv2KyU9"
      },
      "outputs": [],
      "source": [
        "#!yes|python train.py --cfg \"/content/drive/MyDrive/MonoHuman-main/configs/monohuman/zju_mocap/386/386.yaml\" resume False"
      ]
    },
    {
      "cell_type": "code",
      "source": [
        "!pip install scikit-image"
      ],
      "metadata": {
        "colab": {
          "base_uri": "https://localhost:8080/"
        },
        "id": "67a7320Ds3Ve",
        "outputId": "ee10d20f-fb26-4bb0-b1b4-1b95ebcfb1ef"
      },
      "execution_count": null,
      "outputs": [
        {
          "output_type": "stream",
          "name": "stdout",
          "text": [
            "Requirement already satisfied: scikit-image in /usr/local/lib/python3.7/site-packages (0.19.3)\n",
            "Requirement already satisfied: PyWavelets>=1.1.1 in /usr/local/lib/python3.7/site-packages (from scikit-image) (1.3.0)\n",
            "Requirement already satisfied: pillow!=7.1.0,!=7.1.1,!=8.3.0,>=6.1.0 in /usr/local/lib/python3.7/site-packages (from scikit-image) (9.5.0)\n",
            "Requirement already satisfied: tifffile>=2019.7.26 in /usr/local/lib/python3.7/site-packages (from scikit-image) (2021.11.2)\n",
            "Requirement already satisfied: networkx>=2.2 in /usr/local/lib/python3.7/site-packages (from scikit-image) (2.6.3)\n",
            "Requirement already satisfied: numpy>=1.17.0 in /usr/local/lib/python3.7/site-packages (from scikit-image) (1.21.6)\n",
            "Requirement already satisfied: imageio>=2.4.1 in /usr/local/lib/python3.7/site-packages (from scikit-image) (2.31.2)\n",
            "Requirement already satisfied: packaging>=20.0 in /usr/local/lib/python3.7/site-packages (from scikit-image) (23.2)\n",
            "Requirement already satisfied: scipy>=1.4.1 in /usr/local/lib/python3.7/site-packages (from scikit-image) (1.7.3)\n"
          ]
        }
      ]
    },
    {
      "cell_type": "markdown",
      "source": [
        "# **Code to Render/Run Monohuman Avatar Generation**\n",
        "\n",
        "Uncomment to run and generate each motion render"
      ],
      "metadata": {
        "id": "tBlYnwJ14V7I"
      }
    },
    {
      "cell_type": "code",
      "source": [
        "#Code for motion sequence\n",
        "#!python run.py --type movement --cfg configs/monohuman/zju_mocap/386/386.yaml"
      ],
      "metadata": {
        "id": "C9iaMfuDs1c9"
      },
      "execution_count": null,
      "outputs": []
    },
    {
      "cell_type": "code",
      "source": [
        "#Code for freeview\n",
        "#!python run.py --type freeview --cfg configs/monohuman/zju_mocap/386/386.yaml"
      ],
      "metadata": {
        "id": "3cK7AZc1FTCn"
      },
      "execution_count": null,
      "outputs": []
    },
    {
      "cell_type": "code",
      "source": [
        "print(os.getcwd())"
      ],
      "metadata": {
        "colab": {
          "base_uri": "https://localhost:8080/"
        },
        "id": "TNLLIDPg8nDS",
        "outputId": "b6c51ee2-e00c-48c5-ac47-91b43f536dfd"
      },
      "execution_count": null,
      "outputs": [
        {
          "output_type": "stream",
          "name": "stdout",
          "text": [
            "/content/drive/MyDrive/MonoHuman-main\n"
          ]
        }
      ]
    },
    {
      "cell_type": "code",
      "source": [
        "#Code for text-to-motion\n",
        "!python run.py --type text --cfg /content/drive/MyDrive/MonoHuman-main/configs/monohuman/zju_mocap/386/386.yaml text.pose_path /content/drive/MyDrive/motion-diffusion-model-main/save/humanml_trans_enc_512/samples_humanml_trans_enc_512_000200000_seed10_the_person_is_hopping_like_a_rabbit/sample00_rep00_smpl_params.npy"
      ],
      "metadata": {
        "colab": {
          "base_uri": "https://localhost:8080/"
        },
        "id": "gbUlD5JZOnjA",
        "outputId": "5b06d7fe-6801-46b5-f134-09ecda6f5a7b"
      },
      "execution_count": null,
      "outputs": [
        {
          "output_type": "stream",
          "name": "stdout",
          "text": [
            "run.py:2: DeprecationWarning: the imp module is deprecated in favour of importlib; see the module's documentation for alternative uses\n",
            "  import imp\n",
            "experiments/monohuman/zju_mocap/p386/suject_386/latest.tar\n",
            "load network from  experiments/monohuman/zju_mocap/p386/suject_386/latest.tar\n",
            "[Dataset Path] dataset/zju_mocap/386\n",
            "/usr/local/lib/python3.7/site-packages/torch/utils/data/dataloader.py:557: UserWarning: This DataLoader will create 16 worker processes in total. Our suggested max number of worker in current system is 2, which is smaller than what this DataLoader is going to create. Please be aware that excessive worker creation might get DataLoader running slow or even freeze, lower the worker number to avoid potential slowness/freeze if necessary.\n",
            "  cpuset_checked))\n",
            "The rendering is saved in \u001b[36mexperiments/monohuman/zju_mocap/p386/suject_386/latest/text\u001b[0m\n",
            "  0% 0/120 [00:00<?, ?it/s]core/nets/monohuman/network.py:87: UserWarning: To copy construct from a tensor, it is recommended to use sourceTensor.clone().detach() or sourceTensor.clone().detach().requires_grad_(True), rather than torch.tensor(sourceTensor).\n",
            "  ret = torch.tensor(points - joints[p_index]).reshape(points.shape[0], 3)\n",
            "100% 120/120 [26:52<00:00, 13.44s/it]\n"
          ]
        }
      ]
    },
    {
      "cell_type": "markdown",
      "metadata": {
        "id": "9oILTF0FnwJk"
      },
      "source": []
    }
  ],
  "metadata": {
    "accelerator": "GPU",
    "colab": {
      "provenance": [],
      "gpuType": "T4"
    },
    "kernelspec": {
      "display_name": "Python 3",
      "name": "python3"
    },
    "language_info": {
      "name": "python"
    }
  },
  "nbformat": 4,
  "nbformat_minor": 0
}